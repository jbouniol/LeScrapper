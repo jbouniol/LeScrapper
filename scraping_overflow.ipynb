{
 "cells": [
  {
   "cell_type": "code",
   "execution_count": 28,
   "metadata": {},
   "outputs": [],
   "source": [
    "import requests\n",
    "import os\n",
    "import time\n",
    "from bs4 import BeautifulSoup\n",
    "import json\n",
    "import pandas as pd"
   ]
  },
  {
   "cell_type": "code",
   "execution_count": 72,
   "metadata": {},
   "outputs": [],
   "source": [
    "def get_link(url):\n",
    "    response = requests.get(url)\n",
    "    soup = BeautifulSoup(response.text, 'html.parser')\n",
    "    links = []\n",
    "    for link in soup.find_all('a'):\n",
    "        links.append(link.get('href'))\n",
    "    return links\n",
    " \n",
    "def get_all_links():\n",
    "    links = []\n",
    "    for n in range(1,80):\n",
    "        h = get_link('https://stackoverflow.com/questions/tagged/web-scraping?frequent=newest&page={n}&pagesize=50')\n",
    "        links.append(h)\n",
    "    return links\n",
    "\n",
    "links = get_all_links()\n"
   ]
  },
  {
   "cell_type": "code",
   "execution_count": 73,
   "metadata": {},
   "outputs": [],
   "source": [
    "#prendre les urls de la forme https://stackoverflow.com/questions/un_nombre\n",
    "def get_urls(urls):\n",
    "    url = []\n",
    "    for url_list in urls:\n",
    "        for i in url_list:\n",
    "            if i is not None:\n",
    "                if i.startswith('/questions/'):\n",
    "                    for n in range(0,10):\n",
    "                        if i.startswith('/questions/'+str(n)):\n",
    "                            url.append('https://stackoverflow.com'+i)\n",
    "    return url\n",
    "\n",
    "urls = get_urls(links)"
   ]
  },
  {
   "cell_type": "code",
   "execution_count": null,
   "metadata": {},
   "outputs": [],
   "source": [
    "from requests_html import HTMLSession\n",
    "\n",
    "session = HTMLSession()\n",
    "data = []\n",
    "for url in urls[:10]:\n",
    "    r = session.get(url)\n",
    "    question_div = r.html.find('div.s-prose js-post-body', first=True)\n",
    "    question = question_div.text if question_div else \"\"\n",
    "    answer_div = r.html.find('div.answer js-answer accepted-answer js-accepted-answer', first=True)\n",
    "    answer = answer_div.text if answer_div else \"\"\n",
    "    data.append({\"question\": question, \"answer\": answer})\n",
    "    time.sleep(1)\n",
    "\n",
    "data = pd.DataFrame(data)\n",
    "data\n"
   ]
  }
 ],
 "metadata": {
  "kernelspec": {
   "display_name": "Python 3",
   "language": "python",
   "name": "python3"
  },
  "language_info": {
   "codemirror_mode": {
    "name": "ipython",
    "version": 3
   },
   "file_extension": ".py",
   "mimetype": "text/x-python",
   "name": "python",
   "nbconvert_exporter": "python",
   "pygments_lexer": "ipython3",
   "version": "3.12.1"
  }
 },
 "nbformat": 4,
 "nbformat_minor": 2
}
