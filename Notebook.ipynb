{
 "cells": [
  {
   "cell_type": "code",
   "execution_count": 14,
   "metadata": {},
   "outputs": [],
   "source": [
    "import os\n",
    "from mistralai.client import MistralClient\n",
    "from mistralai.models.chat_completion import ChatMessage\n",
    "import json\n",
    "import pandas as pd\n",
    "\n",
    "api_key = os.environ.get(\"MISTRAL_API_KEY\")\n",
    "client = MistralClient(api_key=api_key)\n",
    "model= 'open-mistral-7b'"
   ]
  },
  {
   "cell_type": "code",
   "execution_count": 32,
   "metadata": {},
   "outputs": [],
   "source": [
    "messages = [\n",
    "    ChatMessage(role=\"user\", \n",
    "                content=\"Qu'est-ce que le machine learning ?\")\n",
    "]\n",
    "\n",
    "response = client.chat(\n",
    "    model=model,\n",
    "    messages=messages\n",
    ")\n",
    "\n",
    "chat_response = response.dict()['choices'][0]['message']['content']"
   ]
  },
  {
   "cell_type": "code",
   "execution_count": 33,
   "metadata": {},
   "outputs": [
    {
     "data": {
      "text/plain": [
       "\"Le machine learning est une branche de l'intelligence artificielle qui permet aux systèmes informatiques d'apprendre automatiquement à analyser et à traiter des données, sans que l'on ait à programmer explicitement les règles à suivre. Les algorithmes de machine learning utilisent des techniques statistiques et mathématiques pour identifier des modèles à partir des données fournies, et pour prédire des résultats pour des données nouvelles en fonction de ces modèles. Il existe différents types de machine learning, dont le supervised learning, le non-supervised learning, et le reinforcement learning.\""
      ]
     },
     "execution_count": 33,
     "metadata": {},
     "output_type": "execute_result"
    }
   ],
   "source": [
    "chat_response"
   ]
  },
  {
   "cell_type": "code",
   "execution_count": 43,
   "metadata": {},
   "outputs": [],
   "source": [
    "df = pd.read_csv('stackoverflow1.csv').dropna()"
   ]
  },
  {
   "cell_type": "code",
   "execution_count": 44,
   "metadata": {},
   "outputs": [],
   "source": [
    "df['answer'] = df['answer'].str.split('\\nShare').str[0]"
   ]
  },
  {
   "cell_type": "code",
   "execution_count": 45,
   "metadata": {},
   "outputs": [],
   "source": [
    "data_list = []\n",
    "for index, row in df.iterrows():\n",
    "    data_list.append({\n",
    "        \"rôle\": 'user',\n",
    "        \"output\": row['question']\n",
    "    })\n",
    "    data_list.append({\n",
    "        \"rôle\": 'assistant',\n",
    "        \"output\": row['answer']\n",
    "    })"
   ]
  },
  {
   "cell_type": "code",
   "execution_count": 46,
   "metadata": {},
   "outputs": [
    {
     "name": "stdout",
     "output_type": "stream",
     "text": [
      "Dataset converted to JSON and saved to stackoverflow1.json\n"
     ]
    }
   ],
   "source": [
    "json_data = json.dumps(data_list, indent=4)\n",
    "\n",
    "json_output_path = 'stackoverflow1.json'\n",
    "\n",
    "with open(json_output_path, 'w') as json_file:\n",
    "    json_file.write(json_data)\n",
    "\n",
    "print(f\"Dataset converted to JSON and saved to {json_output_path}\")"
   ]
  }
 ],
 "metadata": {
  "kernelspec": {
   "display_name": ".venv",
   "language": "python",
   "name": "python3"
  },
  "language_info": {
   "codemirror_mode": {
    "name": "ipython",
    "version": 3
   },
   "file_extension": ".py",
   "mimetype": "text/x-python",
   "name": "python",
   "nbconvert_exporter": "python",
   "pygments_lexer": "ipython3",
   "version": "3.12.3"
  }
 },
 "nbformat": 4,
 "nbformat_minor": 2
}
